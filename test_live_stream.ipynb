{
 "cells": [
  {
   "cell_type": "code",
   "execution_count": 1,
   "metadata": {},
   "outputs": [],
   "source": [
    "import cv2"
   ]
  },
  {
   "cell_type": "code",
   "execution_count": 2,
   "metadata": {},
   "outputs": [],
   "source": [
    "%matplotlib inline"
   ]
  },
  {
   "cell_type": "code",
   "execution_count": 3,
   "metadata": {},
   "outputs": [
    {
     "ename": "",
     "evalue": "",
     "output_type": "error",
     "traceback": [
      "\u001b[1;31mThe Kernel crashed while executing code in the current cell or a previous cell. \n",
      "\u001b[1;31mPlease review the code in the cell(s) to identify a possible cause of the failure. \n",
      "\u001b[1;31mClick <a href='https://aka.ms/vscodeJupyterKernelCrash'>here</a> for more info. \n",
      "\u001b[1;31mView Jupyter <a href='command:jupyter.viewOutput'>log</a> for further details."
     ]
    }
   ],
   "source": [
    "video_capture = cv2.VideoCapture('_test_data/video/red_cap_video.mp4')\n",
    "        \n",
    "# Get video properties\n",
    "frame_width = int(video_capture.get(cv2.CAP_PROP_FRAME_WIDTH))\n",
    "frame_height = int(video_capture.get(cv2.CAP_PROP_FRAME_HEIGHT))\n",
    "fps = int(video_capture.get(cv2.CAP_PROP_FPS))\n",
    "print(f\"Video properties: {frame_width}x{frame_height} @ {fps} FPS\")\n",
    "        \n",
    "        \n",
    "# Process each frame\n",
    "while video_capture.isOpened():\n",
    "    print(\"Processing frame\")\n",
    "    ret, frame = video_capture.read()\n",
    "    if not ret:\n",
    "        break  # End of video stream\n",
    "            \n",
    "    #display the frame , wait 5 sec then continue\n",
    "    cv2.imshow('Frame', frame)\n",
    "    cv2.waitKey(5000)\n",
    "    print(\"Frame processed\")\n",
    "\n",
    "        \n",
    "# Release resources\n",
    "video_capture.release()"
   ]
  }
 ],
 "metadata": {
  "kernelspec": {
   "display_name": "ikomia_env",
   "language": "python",
   "name": "python3"
  },
  "language_info": {
   "codemirror_mode": {
    "name": "ipython",
    "version": 3
   },
   "file_extension": ".py",
   "mimetype": "text/x-python",
   "name": "python",
   "nbconvert_exporter": "python",
   "pygments_lexer": "ipython3",
   "version": "3.9.18"
  }
 },
 "nbformat": 4,
 "nbformat_minor": 2
}
