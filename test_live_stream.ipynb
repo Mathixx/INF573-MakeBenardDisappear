{
 "cells": [
  {
   "cell_type": "code",
   "execution_count": 9,
   "metadata": {},
   "outputs": [],
   "source": [
    "import cv2"
   ]
  },
  {
   "cell_type": "code",
   "execution_count": 12,
   "metadata": {},
   "outputs": [
    {
     "name": "stdout",
     "output_type": "stream",
     "text": [
      "False\n",
      "Capturing frame\n",
      "Frame captured\n",
      "Failed to capture frame\n"
     ]
    },
    {
     "name": "stderr",
     "output_type": "stream",
     "text": [
      "[ WARN:0@2882.199] global cap_ffmpeg_impl.hpp:453 _opencv_ffmpeg_interrupt_callback Stream timeout triggered after 30050.932512 ms\n"
     ]
    }
   ],
   "source": [
    "%matplotlib inline\n",
    "\n",
    "# On your local machine run (for macOs): ffmpeg -f avfoundation -i \"0\" -f mpegts udp://129.104.254.84:5000\n",
    "\n",
    "# Open a connection to the camera (0 is usually the default camera)\n",
    "cap = cv2.VideoCapture(\"udp://129.104.254.84:5000\")\n",
    "cap.set(cv2.CAP_PROP_BUFFERSIZE, 2) \n",
    "print(cap.isOpened())\n",
    "\n",
    "while True:\n",
    "    print(\"Capturing frame\")\n",
    "    # Capture frame-by-frame\n",
    "    ret, frame = cap.read()\n",
    "    print(\"Frame captured\")\n",
    "\n",
    "    # Check if frame is captured successfully\n",
    "    if not ret:\n",
    "        print(\"Failed to capture frame\")\n",
    "        break\n",
    "\n",
    "    # Display the resulting frame\n",
    "    cv2.imshow('Live Stream', frame)\n",
    "\n",
    "    # Press 'q' to exit\n",
    "    if cv2.waitKey(1) & 0xFF == ord('q'):\n",
    "        break\n",
    "\n",
    "# When everything is done, release the capture and close the window\n",
    "cap.release()\n",
    "cv2.destroyAllWindows()\n"
   ]
  }
 ],
 "metadata": {
  "kernelspec": {
   "display_name": "ikomia_env",
   "language": "python",
   "name": "python3"
  },
  "language_info": {
   "codemirror_mode": {
    "name": "ipython",
    "version": 3
   },
   "file_extension": ".py",
   "mimetype": "text/x-python",
   "name": "python",
   "nbconvert_exporter": "python",
   "pygments_lexer": "ipython3",
   "version": "3.9.18"
  }
 },
 "nbformat": 4,
 "nbformat_minor": 2
}
