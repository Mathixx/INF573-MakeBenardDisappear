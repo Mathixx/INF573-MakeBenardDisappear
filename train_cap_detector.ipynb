{
 "cells": [
  {
   "cell_type": "code",
   "execution_count": 9,
   "metadata": {},
   "outputs": [
    {
     "name": "stdout",
     "output_type": "stream",
     "text": [
      "Downloading https://github.com/ultralytics/assets/releases/download/v8.3.0/yolov8n.pt to 'yolov8n.pt'...\n"
     ]
    },
    {
     "name": "stderr",
     "output_type": "stream",
     "text": [
      "100%|██████████| 6.25M/6.25M [00:00<00:00, 66.1MB/s]\n"
     ]
    }
   ],
   "source": [
    "from ultralytics import YOLO\n",
    "import cv2\n",
    "import numpy as np\n",
    "import os\n",
    "\n",
    "#Initialize Yolo Model\n",
    "model = YOLO('yolov8n.pt')"
   ]
  },
  {
   "cell_type": "code",
   "execution_count": 8,
   "metadata": {},
   "outputs": [
    {
     "name": "stdout",
     "output_type": "stream",
     "text": [
      "Dataset Structure is correct\n"
     ]
    }
   ],
   "source": [
    "import shutil\n",
    "\n",
    "# Set dataset paths\n",
    "dataset_dir = \"_test_data/hat-cap-detector\"\n",
    "train_dir = os.path.join(dataset_dir, \"train\")\n",
    "test_dir = os.path.join(dataset_dir, \"test\")\n",
    "val_dir = os.path.join(dataset_dir, \"valid\")\n",
    "\n",
    "# Check Dataset Structure\n",
    "for split in [train_dir, test_dir, val_dir]:\n",
    "    assert os.path.exists(os.path.join(split, \"images\")), f\"images folder not found in {split}\"\n",
    "    assert os.path.exists(os.path.join(split, \"labels\")), f\"labels folder not found in {split}\"\n",
    "\n",
    "print(\"Dataset Structure is correct\")\n",
    "\n"
   ]
  },
  {
   "cell_type": "code",
   "execution_count": null,
   "metadata": {},
   "outputs": [],
   "source": [
    "base_path = os.getcwd()\n",
    "base_path"
   ]
  },
  {
   "cell_type": "code",
   "execution_count": null,
   "metadata": {},
   "outputs": [],
   "source": [
    "# Fine-tune the model\n",
    "model.train(\n",
    "    data=dataset_dir, \n",
    "    epochs=50, \n",
    "    batch_size=16, \n",
    "    imgsz=640\n",
    ")"
   ]
  },
  {
   "cell_type": "code",
   "execution_count": null,
   "metadata": {},
   "outputs": [],
   "source": [
    "metrics = model.val(data=)\n",
    "print(metrics)"
   ]
  },
  {
   "cell_type": "code",
   "execution_count": null,
   "metadata": {},
   "outputs": [],
   "source": [
    "results = model.predict"
   ]
  },
  {
   "cell_type": "code",
   "execution_count": null,
   "metadata": {},
   "outputs": [],
   "source": [
    "wf = Workflow()\n",
    "\n",
    "# Add dataset loader\n",
    "coco = wf.add_task(name=\"dataset_coco\")\n",
    "\n",
    "coco.set_parameters({\n",
    "    \"json_file\": \"path/to/json/annotation/file\",\n",
    "    \"image_folder\": \"path/to/image/folder\",\n",
    "    \"task\": \"detection\",\n",
    "}) "
   ]
  }
 ],
 "metadata": {
  "kernelspec": {
   "display_name": "ikomia_env",
   "language": "python",
   "name": "python3"
  },
  "language_info": {
   "codemirror_mode": {
    "name": "ipython",
    "version": 3
   },
   "file_extension": ".py",
   "mimetype": "text/x-python",
   "name": "python",
   "nbconvert_exporter": "python",
   "pygments_lexer": "ipython3",
   "version": "3.9.19"
  }
 },
 "nbformat": 4,
 "nbformat_minor": 2
}
